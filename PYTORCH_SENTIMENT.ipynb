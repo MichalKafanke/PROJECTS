{
 "cells": [
  {
   "cell_type": "code",
   "execution_count": 1,
   "metadata": {},
   "outputs": [],
   "source": [
    "import pandas as pd\n",
    "import nltk\n",
    "from nltk.corpus import stopwords\n",
    "import re\n",
    "import gensim\n",
    "from nltk.tokenize import word_tokenize\n",
    "from sklearn.model_selection import train_test_split\n",
    "import numpy as np\n",
    "import torch\n",
    "from torch.utils.data import Dataset\n",
    "from torch.utils.data import DataLoader\n",
    "import torch.nn as nn\n",
    "import torch.optim as optim\n",
    "from sklearn.metrics import confusion_matrix\n",
    "import matplotlib.pyplot as plt\n",
    "import seaborn as sns"
   ]
  },
  {
   "cell_type": "code",
   "execution_count": 2,
   "metadata": {
    "id": "RVf9IK6bL_h0"
   },
   "outputs": [
    {
     "data": {
      "text/html": [
       "<div>\n",
       "<style scoped>\n",
       "    .dataframe tbody tr th:only-of-type {\n",
       "        vertical-align: middle;\n",
       "    }\n",
       "\n",
       "    .dataframe tbody tr th {\n",
       "        vertical-align: top;\n",
       "    }\n",
       "\n",
       "    .dataframe thead th {\n",
       "        text-align: right;\n",
       "    }\n",
       "</style>\n",
       "<table border=\"1\" class=\"dataframe\">\n",
       "  <thead>\n",
       "    <tr style=\"text-align: right;\">\n",
       "      <th></th>\n",
       "      <th>textID</th>\n",
       "      <th>text</th>\n",
       "      <th>selected_text</th>\n",
       "      <th>sentiment</th>\n",
       "    </tr>\n",
       "  </thead>\n",
       "  <tbody>\n",
       "    <tr>\n",
       "      <th>0</th>\n",
       "      <td>cb774db0d1</td>\n",
       "      <td>I`d have responded, if I were going</td>\n",
       "      <td>I`d have responded, if I were going</td>\n",
       "      <td>neutral</td>\n",
       "    </tr>\n",
       "    <tr>\n",
       "      <th>1</th>\n",
       "      <td>549e992a42</td>\n",
       "      <td>Sooo SAD I will miss you here in San Diego!!!</td>\n",
       "      <td>Sooo SAD</td>\n",
       "      <td>negative</td>\n",
       "    </tr>\n",
       "    <tr>\n",
       "      <th>2</th>\n",
       "      <td>088c60f138</td>\n",
       "      <td>my boss is bullying me...</td>\n",
       "      <td>bullying me</td>\n",
       "      <td>negative</td>\n",
       "    </tr>\n",
       "    <tr>\n",
       "      <th>3</th>\n",
       "      <td>9642c003ef</td>\n",
       "      <td>what interview! leave me alone</td>\n",
       "      <td>leave me alone</td>\n",
       "      <td>negative</td>\n",
       "    </tr>\n",
       "    <tr>\n",
       "      <th>4</th>\n",
       "      <td>358bd9e861</td>\n",
       "      <td>Sons of ****, why couldn`t they put them on t...</td>\n",
       "      <td>Sons of ****,</td>\n",
       "      <td>negative</td>\n",
       "    </tr>\n",
       "  </tbody>\n",
       "</table>\n",
       "</div>"
      ],
      "text/plain": [
       "       textID                                               text  \\\n",
       "0  cb774db0d1                I`d have responded, if I were going   \n",
       "1  549e992a42      Sooo SAD I will miss you here in San Diego!!!   \n",
       "2  088c60f138                          my boss is bullying me...   \n",
       "3  9642c003ef                     what interview! leave me alone   \n",
       "4  358bd9e861   Sons of ****, why couldn`t they put them on t...   \n",
       "\n",
       "                         selected_text sentiment  \n",
       "0  I`d have responded, if I were going   neutral  \n",
       "1                             Sooo SAD  negative  \n",
       "2                          bullying me  negative  \n",
       "3                       leave me alone  negative  \n",
       "4                        Sons of ****,  negative  "
      ]
     },
     "execution_count": 2,
     "metadata": {},
     "output_type": "execute_result"
    }
   ],
   "source": [
    "df = pd.read_csv('Tweets.csv')\n",
    "df.head(5)"
   ]
  },
  {
   "cell_type": "code",
   "execution_count": 3,
   "metadata": {
    "colab": {
     "base_uri": "https://localhost:8080/"
    },
    "id": "LQuExxEwMD2W",
    "outputId": "e24dd454-26ef-4787-c185-161462da2aec"
   },
   "outputs": [],
   "source": [
    "df.drop(['textID', 'selected_text'], inplace = True, axis = 1)\n",
    "df.drop(df[df['sentiment'] == 'neutral'].index, inplace = True)"
   ]
  },
  {
   "cell_type": "code",
   "execution_count": 4,
   "metadata": {
    "colab": {
     "base_uri": "https://localhost:8080/"
    },
    "id": "p4KBg3YiMyBh",
    "outputId": "801ab25b-1c68-4ef1-f933-c6c349a0173b"
   },
   "outputs": [
    {
     "data": {
      "text/plain": [
       "array(['negative', 'positive'], dtype=object)"
      ]
     },
     "execution_count": 4,
     "metadata": {},
     "output_type": "execute_result"
    }
   ],
   "source": [
    "df['sentiment'].unique()"
   ]
  },
  {
   "cell_type": "code",
   "execution_count": 5,
   "metadata": {
    "colab": {
     "base_uri": "https://localhost:8080/"
    },
    "id": "pzrIfGaLOPMt",
    "outputId": "e2937680-5915-459c-95c9-9388c43b8153"
   },
   "outputs": [
    {
     "data": {
      "text/plain": [
       "text         0\n",
       "sentiment    0\n",
       "dtype: int64"
      ]
     },
     "execution_count": 5,
     "metadata": {},
     "output_type": "execute_result"
    }
   ],
   "source": [
    "df.isnull().sum()"
   ]
  },
  {
   "cell_type": "code",
   "execution_count": 6,
   "metadata": {
    "colab": {
     "base_uri": "https://localhost:8080/"
    },
    "id": "SpTr449hPnm5",
    "outputId": "dca80078-1691-4aff-8d79-0850a1769c55"
   },
   "outputs": [
    {
     "data": {
      "text/plain": [
       "(16363, 2)"
      ]
     },
     "execution_count": 6,
     "metadata": {},
     "output_type": "execute_result"
    }
   ],
   "source": [
    "df.shape"
   ]
  },
  {
   "cell_type": "code",
   "execution_count": 7,
   "metadata": {
    "colab": {
     "base_uri": "https://localhost:8080/"
    },
    "id": "5I5JBFy5hfo7",
    "outputId": "b77e9d8d-b085-4001-dbc2-677bdeb77e99"
   },
   "outputs": [
    {
     "name": "stderr",
     "output_type": "stream",
     "text": [
      "[nltk_data] Downloading package stopwords to\n",
      "[nltk_data]     C:\\Users\\xMich\\AppData\\Roaming\\nltk_data...\n",
      "[nltk_data]   Package stopwords is already up-to-date!\n"
     ]
    },
    {
     "data": {
      "text/plain": [
       "True"
      ]
     },
     "execution_count": 7,
     "metadata": {},
     "output_type": "execute_result"
    }
   ],
   "source": [
    "nltk.download('stopwords')"
   ]
  },
  {
   "cell_type": "code",
   "execution_count": 8,
   "metadata": {
    "id": "OLGCu4IaRH4h"
   },
   "outputs": [],
   "source": [
    "def preprocess_text(text):\n",
    "    stop_words = set(stopwords.words('english'))\n",
    "    text = text.lower()\n",
    "    text = re.sub(r'[^a-z]', ' ', text)\n",
    "    text = text.split()\n",
    "    text = [token for token in text if token not in stop_words]\n",
    "    return ' '.join(text)"
   ]
  },
  {
   "cell_type": "code",
   "execution_count": 9,
   "metadata": {
    "id": "ygnaXou3SV5h"
   },
   "outputs": [
    {
     "data": {
      "text/html": [
       "<div>\n",
       "<style scoped>\n",
       "    .dataframe tbody tr th:only-of-type {\n",
       "        vertical-align: middle;\n",
       "    }\n",
       "\n",
       "    .dataframe tbody tr th {\n",
       "        vertical-align: top;\n",
       "    }\n",
       "\n",
       "    .dataframe thead th {\n",
       "        text-align: right;\n",
       "    }\n",
       "</style>\n",
       "<table border=\"1\" class=\"dataframe\">\n",
       "  <thead>\n",
       "    <tr style=\"text-align: right;\">\n",
       "      <th></th>\n",
       "      <th>text</th>\n",
       "      <th>sentiment</th>\n",
       "    </tr>\n",
       "  </thead>\n",
       "  <tbody>\n",
       "    <tr>\n",
       "      <th>1</th>\n",
       "      <td>sooo sad miss san diego</td>\n",
       "      <td>negative</td>\n",
       "    </tr>\n",
       "    <tr>\n",
       "      <th>2</th>\n",
       "      <td>boss bullying</td>\n",
       "      <td>negative</td>\n",
       "    </tr>\n",
       "    <tr>\n",
       "      <th>3</th>\n",
       "      <td>interview leave alone</td>\n",
       "      <td>negative</td>\n",
       "    </tr>\n",
       "    <tr>\n",
       "      <th>4</th>\n",
       "      <td>sons put releases already bought</td>\n",
       "      <td>negative</td>\n",
       "    </tr>\n",
       "    <tr>\n",
       "      <th>6</th>\n",
       "      <td>feedings baby fun smiles coos</td>\n",
       "      <td>positive</td>\n",
       "    </tr>\n",
       "  </tbody>\n",
       "</table>\n",
       "</div>"
      ],
      "text/plain": [
       "                               text sentiment\n",
       "1           sooo sad miss san diego  negative\n",
       "2                     boss bullying  negative\n",
       "3             interview leave alone  negative\n",
       "4  sons put releases already bought  negative\n",
       "6     feedings baby fun smiles coos  positive"
      ]
     },
     "execution_count": 9,
     "metadata": {},
     "output_type": "execute_result"
    }
   ],
   "source": [
    "df['text'] = df['text'].apply(preprocess_text)\n",
    "df.head(5)"
   ]
  },
  {
   "cell_type": "code",
   "execution_count": 10,
   "metadata": {
    "colab": {
     "base_uri": "https://localhost:8080/",
     "height": 206
    },
    "id": "9wY2AG94ncI0",
    "outputId": "99e55386-7561-4c0f-cc6f-65212d67d897"
   },
   "outputs": [
    {
     "name": "stdout",
     "output_type": "stream",
     "text": [
      "(16358, 2)\n"
     ]
    }
   ],
   "source": [
    "df = df[df['text'].apply(lambda x: len(x) > 0)]\n",
    "print(df.shape)"
   ]
  },
  {
   "cell_type": "code",
   "execution_count": 11,
   "metadata": {},
   "outputs": [
    {
     "data": {
      "text/plain": [
       "positive    8581\n",
       "negative    7777\n",
       "Name: sentiment, dtype: int64"
      ]
     },
     "execution_count": 11,
     "metadata": {},
     "output_type": "execute_result"
    }
   ],
   "source": [
    "df['sentiment'].value_counts()"
   ]
  },
  {
   "cell_type": "code",
   "execution_count": 12,
   "metadata": {},
   "outputs": [
    {
     "data": {
      "text/plain": [
       "negative    7777\n",
       "positive    7777\n",
       "Name: sentiment, dtype: int64"
      ]
     },
     "execution_count": 12,
     "metadata": {},
     "output_type": "execute_result"
    }
   ],
   "source": [
    "df.drop(df[df['sentiment'] == 'negative'][7777:].index, inplace = True)\n",
    "df.drop(df[df['sentiment'] == 'positive'][7777:].index, inplace = True)\n",
    "df['sentiment'].value_counts()"
   ]
  },
  {
   "cell_type": "code",
   "execution_count": 13,
   "metadata": {
    "id": "76CE6diYrU9H"
   },
   "outputs": [],
   "source": [
    "w2v = gensim.models.KeyedVectors.load_word2vec_format('GoogleNews-vectors-negative300.bin', binary = True)"
   ]
  },
  {
   "cell_type": "code",
   "execution_count": 14,
   "metadata": {},
   "outputs": [
    {
     "name": "stderr",
     "output_type": "stream",
     "text": [
      "[nltk_data] Downloading package punkt to\n",
      "[nltk_data]     C:\\Users\\xMich\\AppData\\Roaming\\nltk_data...\n",
      "[nltk_data]   Package punkt is already up-to-date!\n"
     ]
    },
    {
     "data": {
      "text/plain": [
       "True"
      ]
     },
     "execution_count": 14,
     "metadata": {},
     "output_type": "execute_result"
    }
   ],
   "source": [
    "nltk.download('punkt')"
   ]
  },
  {
   "cell_type": "code",
   "execution_count": 15,
   "metadata": {},
   "outputs": [],
   "source": [
    "def tokenize(text):\n",
    "    return word_tokenize(text)"
   ]
  },
  {
   "cell_type": "code",
   "execution_count": 16,
   "metadata": {},
   "outputs": [
    {
     "data": {
      "text/html": [
       "<div>\n",
       "<style scoped>\n",
       "    .dataframe tbody tr th:only-of-type {\n",
       "        vertical-align: middle;\n",
       "    }\n",
       "\n",
       "    .dataframe tbody tr th {\n",
       "        vertical-align: top;\n",
       "    }\n",
       "\n",
       "    .dataframe thead th {\n",
       "        text-align: right;\n",
       "    }\n",
       "</style>\n",
       "<table border=\"1\" class=\"dataframe\">\n",
       "  <thead>\n",
       "    <tr style=\"text-align: right;\">\n",
       "      <th></th>\n",
       "      <th>text</th>\n",
       "      <th>sentiment</th>\n",
       "    </tr>\n",
       "  </thead>\n",
       "  <tbody>\n",
       "    <tr>\n",
       "      <th>1</th>\n",
       "      <td>[sooo, sad, miss, san, diego]</td>\n",
       "      <td>negative</td>\n",
       "    </tr>\n",
       "    <tr>\n",
       "      <th>2</th>\n",
       "      <td>[boss, bullying]</td>\n",
       "      <td>negative</td>\n",
       "    </tr>\n",
       "    <tr>\n",
       "      <th>3</th>\n",
       "      <td>[interview, leave, alone]</td>\n",
       "      <td>negative</td>\n",
       "    </tr>\n",
       "    <tr>\n",
       "      <th>4</th>\n",
       "      <td>[sons, put, releases, already, bought]</td>\n",
       "      <td>negative</td>\n",
       "    </tr>\n",
       "    <tr>\n",
       "      <th>6</th>\n",
       "      <td>[feedings, baby, fun, smiles, coos]</td>\n",
       "      <td>positive</td>\n",
       "    </tr>\n",
       "  </tbody>\n",
       "</table>\n",
       "</div>"
      ],
      "text/plain": [
       "                                     text sentiment\n",
       "1           [sooo, sad, miss, san, diego]  negative\n",
       "2                        [boss, bullying]  negative\n",
       "3               [interview, leave, alone]  negative\n",
       "4  [sons, put, releases, already, bought]  negative\n",
       "6     [feedings, baby, fun, smiles, coos]  positive"
      ]
     },
     "execution_count": 16,
     "metadata": {},
     "output_type": "execute_result"
    }
   ],
   "source": [
    "df['text'] = df['text'].apply(tokenize)\n",
    "df.head(5)"
   ]
  },
  {
   "cell_type": "code",
   "execution_count": 17,
   "metadata": {
    "colab": {
     "base_uri": "https://localhost:8080/"
    },
    "id": "pg2FSf-hokMe",
    "outputId": "e5bb7be3-76bc-44a1-9aa9-4e252bb7ea0f"
   },
   "outputs": [
    {
     "data": {
      "text/html": [
       "<div>\n",
       "<style scoped>\n",
       "    .dataframe tbody tr th:only-of-type {\n",
       "        vertical-align: middle;\n",
       "    }\n",
       "\n",
       "    .dataframe tbody tr th {\n",
       "        vertical-align: top;\n",
       "    }\n",
       "\n",
       "    .dataframe thead th {\n",
       "        text-align: right;\n",
       "    }\n",
       "</style>\n",
       "<table border=\"1\" class=\"dataframe\">\n",
       "  <thead>\n",
       "    <tr style=\"text-align: right;\">\n",
       "      <th></th>\n",
       "      <th>text</th>\n",
       "      <th>sentiment</th>\n",
       "    </tr>\n",
       "  </thead>\n",
       "  <tbody>\n",
       "    <tr>\n",
       "      <th>1</th>\n",
       "      <td>[96190, 4067, 2116, 93622, 762521]</td>\n",
       "      <td>negative</td>\n",
       "    </tr>\n",
       "    <tr>\n",
       "      <th>2</th>\n",
       "      <td>[3151, 10418]</td>\n",
       "      <td>negative</td>\n",
       "    </tr>\n",
       "    <tr>\n",
       "      <th>3</th>\n",
       "      <td>[1152, 785, 1436]</td>\n",
       "      <td>negative</td>\n",
       "    </tr>\n",
       "    <tr>\n",
       "      <th>4</th>\n",
       "      <td>[4420, 238, 5120, 311, 1741]</td>\n",
       "      <td>negative</td>\n",
       "    </tr>\n",
       "    <tr>\n",
       "      <th>6</th>\n",
       "      <td>[98807, 2083, 1260, 10387, 132607]</td>\n",
       "      <td>positive</td>\n",
       "    </tr>\n",
       "  </tbody>\n",
       "</table>\n",
       "</div>"
      ],
      "text/plain": [
       "                                 text sentiment\n",
       "1  [96190, 4067, 2116, 93622, 762521]  negative\n",
       "2                       [3151, 10418]  negative\n",
       "3                   [1152, 785, 1436]  negative\n",
       "4        [4420, 238, 5120, 311, 1741]  negative\n",
       "6  [98807, 2083, 1260, 10387, 132607]  positive"
      ]
     },
     "execution_count": 17,
     "metadata": {},
     "output_type": "execute_result"
    }
   ],
   "source": [
    "df['text'] = [[token for token in text if token in w2v.key_to_index] for text in df['text']]\n",
    "df['text'] = [[w2v.key_to_index[token] for token in text] for text in df['text']]\n",
    "df.head(5)"
   ]
  },
  {
   "cell_type": "code",
   "execution_count": 18,
   "metadata": {},
   "outputs": [
    {
     "data": {
      "text/html": [
       "<div>\n",
       "<style scoped>\n",
       "    .dataframe tbody tr th:only-of-type {\n",
       "        vertical-align: middle;\n",
       "    }\n",
       "\n",
       "    .dataframe tbody tr th {\n",
       "        vertical-align: top;\n",
       "    }\n",
       "\n",
       "    .dataframe thead th {\n",
       "        text-align: right;\n",
       "    }\n",
       "</style>\n",
       "<table border=\"1\" class=\"dataframe\">\n",
       "  <thead>\n",
       "    <tr style=\"text-align: right;\">\n",
       "      <th></th>\n",
       "      <th>text</th>\n",
       "      <th>sentiment</th>\n",
       "    </tr>\n",
       "  </thead>\n",
       "  <tbody>\n",
       "    <tr>\n",
       "      <th>1</th>\n",
       "      <td>[96190, 4067, 2116, 93622, 762521]</td>\n",
       "      <td>0</td>\n",
       "    </tr>\n",
       "    <tr>\n",
       "      <th>2</th>\n",
       "      <td>[3151, 10418]</td>\n",
       "      <td>0</td>\n",
       "    </tr>\n",
       "    <tr>\n",
       "      <th>3</th>\n",
       "      <td>[1152, 785, 1436]</td>\n",
       "      <td>0</td>\n",
       "    </tr>\n",
       "    <tr>\n",
       "      <th>4</th>\n",
       "      <td>[4420, 238, 5120, 311, 1741]</td>\n",
       "      <td>0</td>\n",
       "    </tr>\n",
       "    <tr>\n",
       "      <th>6</th>\n",
       "      <td>[98807, 2083, 1260, 10387, 132607]</td>\n",
       "      <td>1</td>\n",
       "    </tr>\n",
       "  </tbody>\n",
       "</table>\n",
       "</div>"
      ],
      "text/plain": [
       "                                 text  sentiment\n",
       "1  [96190, 4067, 2116, 93622, 762521]          0\n",
       "2                       [3151, 10418]          0\n",
       "3                   [1152, 785, 1436]          0\n",
       "4        [4420, 238, 5120, 311, 1741]          0\n",
       "6  [98807, 2083, 1260, 10387, 132607]          1"
      ]
     },
     "execution_count": 18,
     "metadata": {},
     "output_type": "execute_result"
    }
   ],
   "source": [
    "label_mapping = {'positive': 1, 'negative': 0}\n",
    "df['sentiment'] = df['sentiment'].map(label_mapping)\n",
    "df.head(5)"
   ]
  },
  {
   "cell_type": "code",
   "execution_count": 19,
   "metadata": {},
   "outputs": [],
   "source": [
    "def pad_seq(seq):\n",
    "    if len(seq) < 10:\n",
    "        seq.extend([0] * (10 - len(seq)))\n",
    "    elif len(seq) > 10:\n",
    "        seq = seq[:10]\n",
    "    return seq"
   ]
  },
  {
   "cell_type": "code",
   "execution_count": 20,
   "metadata": {
    "id": "AJSz-fvlbPDy"
   },
   "outputs": [],
   "source": [
    "X = df['text']\n",
    "y = df['sentiment']"
   ]
  },
  {
   "cell_type": "code",
   "execution_count": 21,
   "metadata": {
    "id": "n5h21D-fb61S"
   },
   "outputs": [],
   "source": [
    "X_train, X_test, y_train, y_test = train_test_split(X, y, test_size = 0.1, random_state = 42)\n",
    "X_train, X_val, y_train, y_val = train_test_split(X_train, y_train, test_size = 0.1, random_state = 42)"
   ]
  },
  {
   "cell_type": "code",
   "execution_count": 22,
   "metadata": {},
   "outputs": [],
   "source": [
    "class Dataset(Dataset):\n",
    "    def __init__(self, X, y):\n",
    "        self.X = [pad_seq(x) for x in X]\n",
    "        self.y = np.array(y).reshape(-1, 1)\n",
    "    def __len__(self):\n",
    "        return len(self.X)\n",
    "    def __getitem__(self, idx):\n",
    "        return torch.LongTensor(self.X[idx]), torch.Tensor(self.y[idx])"
   ]
  },
  {
   "cell_type": "code",
   "execution_count": 23,
   "metadata": {},
   "outputs": [],
   "source": [
    "train_dataset = Dataset(X_train, y_train)\n",
    "test_dataset = Dataset(X_test, y_test)\n",
    "val_dataset = Dataset(X_val, y_val)"
   ]
  },
  {
   "cell_type": "code",
   "execution_count": 24,
   "metadata": {
    "id": "Uv8UNb1ctZco"
   },
   "outputs": [],
   "source": [
    "train_dl = DataLoader(train_dataset, batch_size = 32, shuffle = True)\n",
    "test_dl = DataLoader(test_dataset, batch_size = 32, shuffle = True)\n",
    "val_dl = DataLoader(val_dataset, batch_size = 32, shuffle = True)"
   ]
  },
  {
   "cell_type": "code",
   "execution_count": 25,
   "metadata": {
    "id": "yU7wFNApu3tZ"
   },
   "outputs": [],
   "source": [
    "class Model(nn.Module):\n",
    "    def __init__(self):\n",
    "        super(Model, self).__init__()\n",
    "        self.embedding = nn.Embedding.from_pretrained(torch.FloatTensor(w2v.vectors))\n",
    "        self.lstm = nn.LSTM(input_size = 256, hidden_size = 8, batch_first = True)\n",
    "        self.linear = nn.Linear(8, 2)\n",
    "        self.softmax = nn.Softmax(dim = 1)\n",
    "    def forward(self, x):\n",
    "        x = self.embedding(x)\n",
    "        x, _ = self.lstm(x)\n",
    "        x = self.linear(x[:, -1, :])\n",
    "        x = self.softmax(x)\n",
    "        return x"
   ]
  },
  {
   "cell_type": "code",
   "execution_count": 26,
   "metadata": {},
   "outputs": [],
   "source": [
    "model = Model()"
   ]
  },
  {
   "cell_type": "code",
   "execution_count": 27,
   "metadata": {},
   "outputs": [],
   "source": [
    "def train_and_plot(train_dataloader, val_dataloader, model):\n",
    "    loss_function = nn.CrossEntropyLoss()\n",
    "    optimizer = optim.Adam(model.parameters(), lr = 0.0001, weight_decay = 0.0001)\n",
    "    num_epochs = 25\n",
    "    train_loss_values, val_loss_values = [], []\n",
    "    train_accuracy_values, val_accuracy_values = [], []\n",
    "    for epoch in range(1, num_epochs + 1):\n",
    "        model.train()\n",
    "        total_train_loss = 0.0\n",
    "        correct_train_predictions = 0\n",
    "        total_train_samples = 0\n",
    "        for x_train, y_train in train_dataloader:\n",
    "            pred_train = model(x_train)\n",
    "            y_train = y_train.squeeze(1).long()\n",
    "            loss_train = loss_function(pred_train, y_train)\n",
    "            optimizer.zero_grad()\n",
    "            loss_train.backward()\n",
    "            optimizer.step()\n",
    "            total_train_loss += loss_train.item()\n",
    "            correct_train_predictions += (torch.argmax(pred_train, dim = 1) == y_train).sum().item()\n",
    "            total_train_samples += y_train.size(0)\n",
    "        avg_train_loss = total_train_loss / len(train_dataloader)\n",
    "        train_accuracy = correct_train_predictions / total_train_samples\n",
    "        train_loss_values.append(avg_train_loss)\n",
    "        train_accuracy_values.append(train_accuracy)\n",
    "        model.eval()\n",
    "        total_val_loss = 0.0\n",
    "        correct_val_predictions = 0\n",
    "        total_val_samples = 0\n",
    "        with torch.no_grad():\n",
    "            for x_val, y_val in val_dataloader:\n",
    "                pred_val = model(x_val)\n",
    "                y_val = y_val.squeeze(1).long()\n",
    "                loss_val = loss_function(pred_val, y_val)\n",
    "                total_val_loss += loss_val.item()\n",
    "                correct_val_predictions += (torch.argmax(pred_val, dim = 1) == y_val).sum().item()\n",
    "                total_val_samples += y_val.size(0)\n",
    "        avg_val_loss = total_val_loss / len(val_dataloader)\n",
    "        val_accuracy = correct_val_predictions / total_val_samples\n",
    "        val_loss_values.append(avg_val_loss)\n",
    "        val_accuracy_values.append(val_accuracy)\n",
    "        print(f'Epoch: {epoch} | Train Loss: {round(avg_train_loss, 4)} | Train Acc: {round(train_accuracy * 100, 2)}% | Val Loss: {round(avg_val_loss, 4)} | Val Acc: {round(val_accuracy * 100, 2)}%')\n",
    "    plt.figure(figsize = (16, 9))\n",
    "    plt.subplot(1, 2, 1)\n",
    "    plt.plot(train_loss_values, label = 'Training Loss')\n",
    "    plt.plot(val_loss_values, label = 'Validation Loss', linestyle = '--')\n",
    "    plt.xlabel('Epoch')\n",
    "    plt.ylabel('Loss')\n",
    "    plt.legend()\n",
    "    plt.subplot(1, 2, 2)\n",
    "    plt.plot(train_accuracy_values, label = 'Training Accuracy', color = 'orange')\n",
    "    plt.plot(val_accuracy_values, label = 'Validation Accuracy', color = 'red', linestyle = '--')\n",
    "    plt.xlabel('Epoch')\n",
    "    plt.ylabel('Accuracy')\n",
    "    plt.legend()\n",
    "    plt.tight_layout()\n",
    "    plt.show()"
   ]
  },
  {
   "cell_type": "code",
   "execution_count": 28,
   "metadata": {},
   "outputs": [
    {
     "name": "stdout",
     "output_type": "stream",
     "text": [
      "Epoch: 1 | Train Loss: 0.6966 | Train Acc: 49.98% | Val Loss: 0.6921 | Val Acc: 50.5%\n",
      "Epoch: 2 | Train Loss: 0.689 | Train Acc: 51.52% | Val Loss: 0.6805 | Val Acc: 60.86%\n",
      "Epoch: 3 | Train Loss: 0.6607 | Train Acc: 71.15% | Val Loss: 0.6302 | Val Acc: 74.5%\n",
      "Epoch: 4 | Train Loss: 0.5932 | Train Acc: 78.19% | Val Loss: 0.5701 | Val Acc: 78.64%\n",
      "Epoch: 5 | Train Loss: 0.5489 | Train Acc: 80.12% | Val Loss: 0.5461 | Val Acc: 78.57%\n",
      "Epoch: 6 | Train Loss: 0.5285 | Train Acc: 80.72% | Val Loss: 0.5316 | Val Acc: 80.0%\n",
      "Epoch: 7 | Train Loss: 0.5155 | Train Acc: 81.42% | Val Loss: 0.5212 | Val Acc: 80.07%\n",
      "Epoch: 8 | Train Loss: 0.5049 | Train Acc: 81.93% | Val Loss: 0.5121 | Val Acc: 80.64%\n",
      "Epoch: 9 | Train Loss: 0.4962 | Train Acc: 82.58% | Val Loss: 0.5051 | Val Acc: 81.43%\n",
      "Epoch: 10 | Train Loss: 0.4887 | Train Acc: 83.28% | Val Loss: 0.4983 | Val Acc: 81.86%\n",
      "Epoch: 11 | Train Loss: 0.4829 | Train Acc: 83.58% | Val Loss: 0.4928 | Val Acc: 82.79%\n",
      "Epoch: 12 | Train Loss: 0.4777 | Train Acc: 83.89% | Val Loss: 0.4879 | Val Acc: 82.57%\n",
      "Epoch: 13 | Train Loss: 0.4731 | Train Acc: 84.24% | Val Loss: 0.485 | Val Acc: 82.5%\n",
      "Epoch: 14 | Train Loss: 0.469 | Train Acc: 84.55% | Val Loss: 0.4812 | Val Acc: 83.07%\n",
      "Epoch: 15 | Train Loss: 0.4656 | Train Acc: 84.97% | Val Loss: 0.478 | Val Acc: 83.21%\n",
      "Epoch: 16 | Train Loss: 0.4626 | Train Acc: 85.17% | Val Loss: 0.4762 | Val Acc: 83.57%\n",
      "Epoch: 17 | Train Loss: 0.4601 | Train Acc: 85.35% | Val Loss: 0.4738 | Val Acc: 83.93%\n",
      "Epoch: 18 | Train Loss: 0.4574 | Train Acc: 85.54% | Val Loss: 0.4715 | Val Acc: 84.07%\n",
      "Epoch: 19 | Train Loss: 0.4551 | Train Acc: 85.84% | Val Loss: 0.4703 | Val Acc: 84.5%\n",
      "Epoch: 20 | Train Loss: 0.4531 | Train Acc: 85.95% | Val Loss: 0.4687 | Val Acc: 84.43%\n",
      "Epoch: 21 | Train Loss: 0.4512 | Train Acc: 86.15% | Val Loss: 0.4676 | Val Acc: 84.64%\n",
      "Epoch: 22 | Train Loss: 0.4497 | Train Acc: 86.28% | Val Loss: 0.4661 | Val Acc: 84.57%\n",
      "Epoch: 23 | Train Loss: 0.4479 | Train Acc: 86.53% | Val Loss: 0.4656 | Val Acc: 84.21%\n",
      "Epoch: 24 | Train Loss: 0.4465 | Train Acc: 86.7% | Val Loss: 0.4643 | Val Acc: 84.64%\n",
      "Epoch: 25 | Train Loss: 0.4451 | Train Acc: 86.94% | Val Loss: 0.4638 | Val Acc: 84.64%\n"
     ]
    },
    {
     "data": {
      "image/png": "[encoded data removed]",
      "text/plain": [
       "<Figure size 1152x648 with 2 Axes>"
      ]
     },
     "metadata": {
      "needs_background": "light"
     },
     "output_type": "display_data"
    }
   ],
   "source": [
    "train_and_plot(train_dl, val_dl, model)"
   ]
  },
  {
   "cell_type": "code",
   "execution_count": 29,
   "metadata": {},
   "outputs": [],
   "source": [
    "def compute_loss(model, dataloader):\n",
    "    loss = nn.CrossEntropyLoss()\n",
    "    total_loss = 0.0\n",
    "    num_batches = len(dataloader)\n",
    "    model.eval()\n",
    "    with torch.no_grad():\n",
    "        for x, y in dataloader:\n",
    "            pred = model(x)\n",
    "            y = y.squeeze(1).long()\n",
    "            loss_value = loss(pred, y)\n",
    "            total_loss += loss_value.item()\n",
    "    avg_loss = total_loss / num_batches\n",
    "    return avg_loss"
   ]
  },
  {
   "cell_type": "code",
   "execution_count": 30,
   "metadata": {},
   "outputs": [
    {
     "name": "stdout",
     "output_type": "stream",
     "text": [
      "Test Loss: 0.47\n"
     ]
    }
   ],
   "source": [
    "test_loss = compute_loss(model, test_dl)\n",
    "print(f'Test Loss: {round(test_loss, 2)}')"
   ]
  },
  {
   "cell_type": "code",
   "execution_count": 31,
   "metadata": {},
   "outputs": [],
   "source": [
    "def compute_accuracy(model, dataloader):\n",
    "    correct_predictions = 0\n",
    "    total_samples = 0\n",
    "    model.eval()\n",
    "    with torch.no_grad():\n",
    "        for x, y in dataloader:\n",
    "            pred = model(x)\n",
    "            y = y.squeeze(1).long()\n",
    "            _, pred = torch.max(pred, 1)\n",
    "            correct_predictions += (pred == y).sum().item()\n",
    "            total_samples += y.size(0)\n",
    "    accuracy = correct_predictions / total_samples\n",
    "    return accuracy"
   ]
  },
  {
   "cell_type": "code",
   "execution_count": 32,
   "metadata": {},
   "outputs": [
    {
     "name": "stdout",
     "output_type": "stream",
     "text": [
      "Test Accuracy: 83.1%\n"
     ]
    }
   ],
   "source": [
    "test_accuracy = compute_accuracy(model, test_dl)\n",
    "print(f'Test Accuracy: {round(test_accuracy * 100, 2)}%')"
   ]
  },
  {
   "cell_type": "code",
   "execution_count": 33,
   "metadata": {},
   "outputs": [],
   "source": [
    "def compute_confusion_matrix(model, dataloader):\n",
    "    model.eval()\n",
    "    all_labels = []\n",
    "    all_predictions = []\n",
    "    with torch.no_grad():\n",
    "        for x, y in dataloader:\n",
    "            pred = model(x)\n",
    "            y = y.squeeze(1).long()\n",
    "            _, pred = torch.max(pred, 1)       \n",
    "            all_labels.extend(y.numpy())\n",
    "            all_predictions.extend(pred.numpy())\n",
    "    cm = confusion_matrix(all_labels, all_predictions)\n",
    "    return cm"
   ]
  },
  {
   "cell_type": "code",
   "execution_count": 34,
   "metadata": {},
   "outputs": [],
   "source": [
    "def plot_confusion_matrix(conf_matrix, class_names):\n",
    "    plt.figure(figsize = (8, 8))\n",
    "    sns.heatmap(conf_matrix, annot = True, fmt = 'd', cmap = 'Blues', xticklabels = class_names, yticklabels = class_names)\n",
    "    plt.title('Confusion Matrix')\n",
    "    plt.xlabel('Predicted')\n",
    "    plt.ylabel('True')\n",
    "    plt.show()"
   ]
  },
  {
   "cell_type": "code",
   "execution_count": 35,
   "metadata": {},
   "outputs": [
    {
     "data": {
      "image/png": "[encoded data removed]",
      "text/plain": [
       "<Figure size 576x576 with 2 Axes>"
      ]
     },
     "metadata": {
      "needs_background": "light"
     },
     "output_type": "display_data"
    }
   ],
   "source": [
    "conf_matrix = compute_confusion_matrix(model, test_dl)\n",
    "plot_confusion_matrix(conf_matrix, ['Positive', 'Negative'])"
   ]
  }
 ],
 "metadata": {
  "colab": {
   "provenance": []
  },
  "kernelspec": {
   "display_name": "Python 3 (ipykernel)",
   "language": "python",
   "name": "python3"
  },
  "language_info": {
   "codemirror_mode": {
    "name": "ipython",
    "version": 3
   },
   "file_extension": ".py",
   "mimetype": "text/x-python",
   "name": "python",
   "nbconvert_exporter": "python",
   "pygments_lexer": "ipython3",
   "version": "3.9.12"
  }
 },
 "nbformat": 4,
 "nbformat_minor": 1
}

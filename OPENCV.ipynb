{
 "cells": [
  {
   "cell_type": "code",
   "execution_count": 1,
   "id": "bb172641",
   "metadata": {},
   "outputs": [],
   "source": [
    "import os\n",
    "import cv2\n",
    "import numpy as np\n",
    "from sklearn.model_selection import train_test_split\n",
    "from tensorflow.keras.utils import to_categorical\n",
    "from tensorflow.keras.models import Sequential\n",
    "from tensorflow.keras.layers import Conv2D, MaxPool2D, Dropout, Flatten, Dense\n",
    "import matplotlib.pyplot as plt\n",
    "from sklearn.metrics import accuracy_score"
   ]
  },
  {
   "cell_type": "code",
   "execution_count": 2,
   "id": "80ae63da",
   "metadata": {},
   "outputs": [],
   "source": [
    "path = 'C:\\\\Users\\\\xMich\\\\OneDrive\\\\Pulpit\\\\Paidwork\\\\Train'"
   ]
  },
  {
   "cell_type": "code",
   "execution_count": 3,
   "id": "b88c1195",
   "metadata": {},
   "outputs": [],
   "source": [
    "def load_and_preprocess_data(path):\n",
    "    X = []\n",
    "    y = []\n",
    "    for class_number in range(len(os.listdir(path))):\n",
    "        for image in os.listdir(f'{path}\\\\{class_number}'):\n",
    "            image = cv2.imread(f'{path}\\\\{class_number}\\\\{image}', cv2.IMREAD_GRAYSCALE)\n",
    "            image = cv2.resize(image, (30, 30))\n",
    "            image = image / 255\n",
    "            X.append(image)\n",
    "            y.append(class_number)\n",
    "    X = np.expand_dims(X, axis = -1)\n",
    "    y = np.expand_dims(y, axis = -1)\n",
    "    return np.array(X), np.array(y)"
   ]
  },
  {
   "cell_type": "code",
   "execution_count": 4,
   "id": "3dfd5b4d",
   "metadata": {},
   "outputs": [],
   "source": [
    "X, y = load_and_preprocess_data(path)"
   ]
  },
  {
   "cell_type": "code",
   "execution_count": 5,
   "id": "841e6ece",
   "metadata": {},
   "outputs": [],
   "source": [
    "X_train, X_test, y_train, y_test = train_test_split(X, y, test_size = 0.2, random_state = 42)"
   ]
  },
  {
   "cell_type": "code",
   "execution_count": 6,
   "id": "940fd77b",
   "metadata": {},
   "outputs": [],
   "source": [
    "y_train = to_categorical(y_train, 43)\n",
    "y_test = to_categorical(y_test, 43)"
   ]
  },
  {
   "cell_type": "code",
   "execution_count": 7,
   "id": "a1a7aea8",
   "metadata": {},
   "outputs": [
    {
     "name": "stdout",
     "output_type": "stream",
     "text": [
      "Model: \"sequential\"\n",
      "_________________________________________________________________\n",
      " Layer (type)                Output Shape              Param #   \n",
      "=================================================================\n",
      " conv2d (Conv2D)             (None, 26, 26, 32)        832       \n",
      "                                                                 \n",
      " conv2d_1 (Conv2D)           (None, 22, 22, 32)        25632     \n",
      "                                                                 \n",
      " max_pooling2d (MaxPooling2D  (None, 11, 11, 32)       0         \n",
      " )                                                               \n",
      "                                                                 \n",
      " dropout (Dropout)           (None, 11, 11, 32)        0         \n",
      "                                                                 \n",
      " conv2d_2 (Conv2D)           (None, 9, 9, 64)          18496     \n",
      "                                                                 \n",
      " conv2d_3 (Conv2D)           (None, 7, 7, 64)          36928     \n",
      "                                                                 \n",
      " max_pooling2d_1 (MaxPooling  (None, 3, 3, 64)         0         \n",
      " 2D)                                                             \n",
      "                                                                 \n",
      " dropout_1 (Dropout)         (None, 3, 3, 64)          0         \n",
      "                                                                 \n",
      " flatten (Flatten)           (None, 576)               0         \n",
      "                                                                 \n",
      " dense (Dense)               (None, 256)               147712    \n",
      "                                                                 \n",
      " dropout_2 (Dropout)         (None, 256)               0         \n",
      "                                                                 \n",
      " dense_1 (Dense)             (None, 43)                11051     \n",
      "                                                                 \n",
      "=================================================================\n",
      "Total params: 240,651\n",
      "Trainable params: 240,651\n",
      "Non-trainable params: 0\n",
      "_________________________________________________________________\n"
     ]
    }
   ],
   "source": [
    "model = Sequential()\n",
    "model.add(Conv2D(filters = 32, kernel_size = (5, 5), activation = 'relu', input_shape = (30, 30, 1)))\n",
    "model.add(Conv2D(filters = 32, kernel_size = (5, 5), activation = 'relu'))\n",
    "model.add(MaxPool2D(pool_size = (2, 2)))\n",
    "model.add(Dropout(rate = 0.25))\n",
    "model.add(Conv2D(filters = 64, kernel_size = (3, 3), activation = 'relu'))\n",
    "model.add(Conv2D(filters = 64, kernel_size = (3, 3), activation = 'relu'))\n",
    "model.add(MaxPool2D(pool_size = (2, 2)))\n",
    "model.add(Dropout(rate = 0.25))\n",
    "model.add(Flatten())\n",
    "model.add(Dense(256, activation = 'relu'))\n",
    "model.add(Dropout(rate = 0.5))\n",
    "model.add(Dense(43, activation = 'softmax'))\n",
    "model.compile(loss = 'categorical_crossentropy', optimizer = 'adam', metrics = ['accuracy'])\n",
    "model.summary()"
   ]
  },
  {
   "cell_type": "code",
   "execution_count": 8,
   "id": "92225cfb",
   "metadata": {},
   "outputs": [
    {
     "name": "stdout",
     "output_type": "stream",
     "text": [
      "Epoch 1/10\n",
      "981/981 [==============================] - 41s 40ms/step - loss: 1.2752 - accuracy: 0.6485\n",
      "Epoch 2/10\n",
      "981/981 [==============================] - 44s 45ms/step - loss: 0.2826 - accuracy: 0.9174\n",
      "Epoch 3/10\n",
      "981/981 [==============================] - 50s 51ms/step - loss: 0.1785 - accuracy: 0.9490\n",
      "Epoch 4/10\n",
      "981/981 [==============================] - 50s 51ms/step - loss: 0.1393 - accuracy: 0.9573\n",
      "Epoch 5/10\n",
      "981/981 [==============================] - 50s 51ms/step - loss: 0.1104 - accuracy: 0.9675\n",
      "Epoch 6/10\n",
      "981/981 [==============================] - 52s 53ms/step - loss: 0.0981 - accuracy: 0.9710\n",
      "Epoch 7/10\n",
      "981/981 [==============================] - 52s 53ms/step - loss: 0.0859 - accuracy: 0.9738\n",
      "Epoch 8/10\n",
      "981/981 [==============================] - 52s 53ms/step - loss: 0.0777 - accuracy: 0.9767\n",
      "Epoch 9/10\n",
      "981/981 [==============================] - 52s 53ms/step - loss: 0.0712 - accuracy: 0.9778\n",
      "Epoch 10/10\n",
      "981/981 [==============================] - 52s 53ms/step - loss: 0.0702 - accuracy: 0.9781\n"
     ]
    }
   ],
   "source": [
    "history = model.fit(X_train, y_train, batch_size = 32, epochs = 10)"
   ]
  },
  {
   "cell_type": "code",
   "execution_count": 9,
   "id": "d55c9a54",
   "metadata": {},
   "outputs": [
    {
     "data": {
      "image/png": "[encoded data removed]",
      "text/plain": [
       "<Figure size 432x288 with 1 Axes>"
      ]
     },
     "metadata": {
      "needs_background": "light"
     },
     "output_type": "display_data"
    }
   ],
   "source": [
    "metrics = history.history\n",
    "plt.plot(history.epoch, metrics['loss'])\n",
    "plt.legend(['loss'])\n",
    "plt.show()"
   ]
  },
  {
   "cell_type": "code",
   "execution_count": 10,
   "id": "5718b913",
   "metadata": {},
   "outputs": [
    {
     "name": "stdout",
     "output_type": "stream",
     "text": [
      "981/981 [==============================] - 11s 11ms/step\n",
      "Train accuracy: 99.7%\n"
     ]
    }
   ],
   "source": [
    "accuracy = accuracy_score(np.argmax(y_train, axis = -1), np.argmax(model.predict(X_train), axis = -1))\n",
    "print(f'Train accuracy: {round(accuracy * 100, 2)}%')"
   ]
  },
  {
   "cell_type": "code",
   "execution_count": 11,
   "id": "0e72ad99",
   "metadata": {},
   "outputs": [
    {
     "name": "stdout",
     "output_type": "stream",
     "text": [
      "246/246 [==============================] - 3s 11ms/step\n",
      "Test accuracy: 99.38%\n"
     ]
    }
   ],
   "source": [
    "accuracy = accuracy_score(np.argmax(y_test, axis = -1), np.argmax(model.predict(X_test), axis = -1))\n",
    "print(f'Test accuracy: {round(accuracy * 100, 2)}%')"
   ]
  }
 ],
 "metadata": {
  "kernelspec": {
   "display_name": "Python 3 (ipykernel)",
   "language": "python",
   "name": "python3"
  },
  "language_info": {
   "codemirror_mode": {
    "name": "ipython",
    "version": 3
   },
   "file_extension": ".py",
   "mimetype": "text/x-python",
   "name": "python",
   "nbconvert_exporter": "python",
   "pygments_lexer": "ipython3",
   "version": "3.9.12"
  }
 },
 "nbformat": 4,
 "nbformat_minor": 5
}

{
 "cells": [
  {
   "cell_type": "markdown",
   "metadata": {
    "id": "t0DZ7QM0cSq7"
   },
   "source": [
    " # Opis notatnika\n",
    "\n",
    " Ten notatnik inicjuje naszą pracę nad warsztatem końcowym. Naszym zadaniem tutaj jest pobranie udostępnionych nam danych do obszaru roboczego, które w następnym kroku wgramy na naszą bazę danych. Ich obróbka oraz analiza zostanie przeprowadzona w specjalnie do tego celu przygotowanych kolejnych notatnikach.\n",
    "\n",
    " Na potrzeby tego warsztatu został stworzony dedykowany serwis API, który dostępny jest pod adresem: https://api-datalab.coderslab.com/api/. Dodatkowo udostępniona została dokumentacja, z którą można zapoznać się tutaj: [klik](https://api-datalab.coderslab.com/docs/).\n",
    "\n",
    " > Dokumentacja jest czysto techniczna i ma na celu prezentację dostępnych endpointów wraz ze zwracanym typem. W celu przetestowania należy kliknąć przysisk `Authorize`, podać token (dostępny poniżej), a następnie `Try it out!` oraz uzupełnić wymagane pola (parametry requesta).\n",
    "\n",
    " Zgodnie z dokumentacją stwierdzamy, że udostępnione zostały nam 4 endpointy:\n",
    " - `airport` - dane o lotnisku,\n",
    " - `weather` - informacje o zarejestrowaniej pogodzie na lotnisku danego dnia,\n",
    " - `aircraft` - dane o samolotach\n",
    " - `flights` - dane o wylotach z danego lotniska per dzień.\n",
    "\n",
    " Wszystkie te źródła musimy pobrać, aby być w stanie wykonać całość warsztatu. W celu pobrania informacji, gdzie wymagany jest paramatr `airportId`, posłużymy się listą z pliku `airports.csv`.\n",
    "\n",
    " Przy wykonywaniu tego zadania możesz posłużyć się tym tokenem: `WpzDMZeeCq6tbPdsTHUX8W9mecuUVwXAnmcorefr`.\n",
    "\n",
    " ### Uwagi\n",
    " - Ze względów ćwiczeniowych, konstrukcja poszczególnych endpointów jest różna – w trakcie pracy dokładnie przyjrzyj się, w jaki sposób należy wykonać zapytanie, aby otrzymać odpowiedź.\n",
    " - Pamiętaj o dodaniu `sleep` pomiędzy poszczególnymi wywołaniami endpoint.\n",
    " - Limit wywołań API to 500/min, zadbaj o nieprzekroczenie tego limitu – w przeciwnym wypadku będzie zwracany błąd 429."
   ]
  },
  {
   "cell_type": "markdown",
   "metadata": {
    "id": "KfoENWKJcSq9"
   },
   "source": [
    " # Konfiguracja notatnika"
   ]
  },
  {
   "cell_type": "markdown",
   "metadata": {
    "id": "W9F120yecSq-"
   },
   "source": [
    " Tutaj zaimportuj wymagane biblioteki"
   ]
  },
  {
   "cell_type": "code",
   "execution_count": 1,
   "metadata": {
    "id": "WoyekjhTcSq_"
   },
   "outputs": [],
   "source": [
    "import requests\n",
    "import json\n",
    "import pandas as pd"
   ]
  },
  {
   "cell_type": "markdown",
   "metadata": {
    "id": "xT_qqTgTcSq_"
   },
   "source": [
    " Tutaj zdefiniuj parametry połączenia do API"
   ]
  },
  {
   "cell_type": "code",
   "execution_count": 2,
   "metadata": {
    "id": "ZnX5NHdIcSrA"
   },
   "outputs": [],
   "source": [
    "apikey = 'WpzDMZeeCq6tbPdsTHUX8W9mecuUVwXAnmcorefr'"
   ]
  },
  {
   "cell_type": "markdown",
   "metadata": {
    "id": "6qQIv0FYcSrA"
   },
   "source": [
    "Tutaj wczytaj plik `airports.csv` i dostosuj do dalszych kroków w celu pobierania z kolejnych endpointów. Lista lotnisk jest dostępna w kolumnie `origin_airport_id`."
   ]
  },
  {
   "cell_type": "code",
   "execution_count": 3,
   "metadata": {
    "id": "cch5SNo7cSrB"
   },
   "outputs": [],
   "source": [
    "list_of_airports_id = pd.read_csv(r'../data/airports.csv')\n",
    "list_of_airports_id = list(list_of_airports_id['origin_airport_id'])"
   ]
  },
  {
   "cell_type": "markdown",
   "metadata": {
    "id": "nl2wpRlFcSrB"
   },
   "source": [
    " # Pobieranie `Airport`\n",
    " Zapoznaj się z dokumentacją endpointu `airport`, a następnie pobierz dane dot. poszczególnych lotnisk. Wyniki tego kroku zapisz do ramki `airport_df`, a następnie zapisz do pliku `csv`.\n",
    "\n",
    " ### Wskazówki\n",
    " - Nie wszystkie lotniska dostępne w pliku `airports.csv`, są dostępne w endpoint. Zadbaj o odpowiednie obsłużenie takiej sytuacji,\n",
    " - Do skonwertowania wyników przydatna może okazać się metoda `Pandas` - [from_records](https://pandas.pydata.org/docs/reference/api/pandas.DataFrame.from_records.html),\n",
    " - Artykuł LMS: `Python - analiza danych > Dzień 4 - API > Uwierzytelnianie`\n",
    " - Artykuł LMS: `Python - analiza danych > Przygotowanie do zjazdu 2`"
   ]
  },
  {
   "cell_type": "markdown",
   "metadata": {
    "id": "0BFT2Q6LcSrC"
   },
   "source": [
    " Tutaj pobierz dane z endpoint'u `airport`"
   ]
  },
  {
   "cell_type": "code",
   "execution_count": 4,
   "metadata": {
    "id": "LU15PHoucsWC"
   },
   "outputs": [
    {
     "data": {
      "text/html": [
       "<div>\n",
       "<style scoped>\n",
       "    .dataframe tbody tr th:only-of-type {\n",
       "        vertical-align: middle;\n",
       "    }\n",
       "\n",
       "    .dataframe tbody tr th {\n",
       "        vertical-align: top;\n",
       "    }\n",
       "\n",
       "    .dataframe thead th {\n",
       "        text-align: right;\n",
       "    }\n",
       "</style>\n",
       "<table border=\"1\" class=\"dataframe\">\n",
       "  <thead>\n",
       "    <tr style=\"text-align: right;\">\n",
       "      <th></th>\n",
       "      <th>ORIGIN_AIRPORT_ID</th>\n",
       "      <th>DISPLAY_AIRPORT_NAME</th>\n",
       "      <th>ORIGIN_CITY_NAME</th>\n",
       "      <th>NAME</th>\n",
       "    </tr>\n",
       "  </thead>\n",
       "  <tbody>\n",
       "    <tr>\n",
       "      <th>0</th>\n",
       "      <td>11638</td>\n",
       "      <td>Fresno Air Terminal</td>\n",
       "      <td>Fresno, CA</td>\n",
       "      <td>FRESNO YOSEMITE INTERNATIONAL, CA US</td>\n",
       "    </tr>\n",
       "    <tr>\n",
       "      <th>1</th>\n",
       "      <td>13342</td>\n",
       "      <td>General Mitchell Field</td>\n",
       "      <td>Milwaukee, WI</td>\n",
       "      <td>MILWAUKEE MITCHELL AIRPORT, WI US</td>\n",
       "    </tr>\n",
       "    <tr>\n",
       "      <th>2</th>\n",
       "      <td>13244</td>\n",
       "      <td>Memphis International</td>\n",
       "      <td>Memphis, TN</td>\n",
       "      <td>MEMPHIS INTERNATIONAL AIRPORT, TN US</td>\n",
       "    </tr>\n",
       "    <tr>\n",
       "      <th>3</th>\n",
       "      <td>15096</td>\n",
       "      <td>Syracuse Hancock International</td>\n",
       "      <td>Syracuse, NY</td>\n",
       "      <td>SYRACUSE HANCOCK INTERNATIONAL AIRPORT, NY US</td>\n",
       "    </tr>\n",
       "    <tr>\n",
       "      <th>4</th>\n",
       "      <td>10397</td>\n",
       "      <td>Atlanta Municipal</td>\n",
       "      <td>Atlanta, GA</td>\n",
       "      <td>ATLANTA HARTSFIELD JACKSON INTERNATIONAL AIRPO...</td>\n",
       "    </tr>\n",
       "    <tr>\n",
       "      <th>5</th>\n",
       "      <td>10529</td>\n",
       "      <td>Bradley International</td>\n",
       "      <td>Hartford, CT</td>\n",
       "      <td>HARTFORD BRADLEY INTERNATIONAL AIRPORT, CT US</td>\n",
       "    </tr>\n",
       "    <tr>\n",
       "      <th>6</th>\n",
       "      <td>10140</td>\n",
       "      <td>Albuquerque International Sunport</td>\n",
       "      <td>Albuquerque, NM</td>\n",
       "      <td>ALBUQUERQUE INTERNATIONAL AIRPORT, NM US</td>\n",
       "    </tr>\n",
       "    <tr>\n",
       "      <th>7</th>\n",
       "      <td>10792</td>\n",
       "      <td>Greater Buffalo International</td>\n",
       "      <td>Buffalo, NY</td>\n",
       "      <td>BUFFALO NIAGARA INTERNATIONAL, NY US</td>\n",
       "    </tr>\n",
       "    <tr>\n",
       "      <th>8</th>\n",
       "      <td>10599</td>\n",
       "      <td>Birmingham Airport</td>\n",
       "      <td>Birmingham, AL</td>\n",
       "      <td>BIRMINGHAM AIRPORT, AL US</td>\n",
       "    </tr>\n",
       "    <tr>\n",
       "      <th>9</th>\n",
       "      <td>14831</td>\n",
       "      <td>San Jose International</td>\n",
       "      <td>San Jose, CA</td>\n",
       "      <td>SAN JOSE INTERNATIONAL AIRPORT, CA US</td>\n",
       "    </tr>\n",
       "  </tbody>\n",
       "</table>\n",
       "</div>"
      ],
      "text/plain": [
       "   ORIGIN_AIRPORT_ID               DISPLAY_AIRPORT_NAME ORIGIN_CITY_NAME  \\\n",
       "0              11638                Fresno Air Terminal       Fresno, CA   \n",
       "1              13342             General Mitchell Field    Milwaukee, WI   \n",
       "2              13244              Memphis International      Memphis, TN   \n",
       "3              15096     Syracuse Hancock International     Syracuse, NY   \n",
       "4              10397                  Atlanta Municipal      Atlanta, GA   \n",
       "5              10529              Bradley International     Hartford, CT   \n",
       "6              10140  Albuquerque International Sunport  Albuquerque, NM   \n",
       "7              10792      Greater Buffalo International      Buffalo, NY   \n",
       "8              10599                 Birmingham Airport   Birmingham, AL   \n",
       "9              14831             San Jose International     San Jose, CA   \n",
       "\n",
       "                                                NAME  \n",
       "0               FRESNO YOSEMITE INTERNATIONAL, CA US  \n",
       "1                  MILWAUKEE MITCHELL AIRPORT, WI US  \n",
       "2               MEMPHIS INTERNATIONAL AIRPORT, TN US  \n",
       "3      SYRACUSE HANCOCK INTERNATIONAL AIRPORT, NY US  \n",
       "4  ATLANTA HARTSFIELD JACKSON INTERNATIONAL AIRPO...  \n",
       "5      HARTFORD BRADLEY INTERNATIONAL AIRPORT, CT US  \n",
       "6           ALBUQUERQUE INTERNATIONAL AIRPORT, NM US  \n",
       "7               BUFFALO NIAGARA INTERNATIONAL, NY US  \n",
       "8                          BIRMINGHAM AIRPORT, AL US  \n",
       "9              SAN JOSE INTERNATIONAL AIRPORT, CA US  "
      ]
     },
     "execution_count": 4,
     "metadata": {},
     "output_type": "execute_result"
    }
   ],
   "source": [
    "list_of_airports = []\n",
    "for airport_id in list_of_airports_id:\n",
    "    try:\n",
    "        res = requests.get(f'https://api-datalab.coderslab.com/api/airport/{airport_id}',\n",
    "                           headers = {'Authorization': f'{apikey}'})\n",
    "        if res.status_code == 200:\n",
    "            data = res.json()\n",
    "            list_of_airports.append(data)\n",
    "    except:\n",
    "        pass\n",
    "airport_df = pd.DataFrame.from_records(list_of_airports)\n",
    "airport_df.head(10)"
   ]
  },
  {
   "cell_type": "markdown",
   "metadata": {
    "id": "PBYU4uZIcSrC"
   },
   "source": [
    " ## Sprawdzenie\n",
    " Uruchom kod poniżej, aby sprawdzić, czy ta część została poprawnie wykonana."
   ]
  },
  {
   "cell_type": "code",
   "execution_count": 5,
   "metadata": {
    "colab": {
     "base_uri": "https://localhost:8080/",
     "height": 183
    },
    "id": "v_uYoqUxcSrD",
    "outputId": "99974b89-87c9-4ced-cb20-3830cda40085"
   },
   "outputs": [],
   "source": [
    "airport_df_expected_shape = (97, 4)\n",
    "assert airport_df_expected_shape == airport_df.shape"
   ]
  },
  {
   "cell_type": "markdown",
   "metadata": {
    "id": "VM2aiFNgcSrD"
   },
   "source": [
    " Tutaj zapisz ramkę `airport_df` do pliku `airport_list.csv`."
   ]
  },
  {
   "cell_type": "code",
   "execution_count": 7,
   "metadata": {
    "id": "kX0YVty_cSrE"
   },
   "outputs": [],
   "source": [
    "airport_df.to_csv(r'../data/raw/airport_list.csv')"
   ]
  },
  {
   "cell_type": "markdown",
   "metadata": {
    "id": "WFFoDzkMcSrE"
   },
   "source": [
    " # Pobieranie `Weather`\n",
    " Zapoznaj się z dokumentacją endpotu `Weather`, następnie pobierz dane dotyczące zarejestrowanej pogody na poszczególnych lotniskach. Wyniki zapisz do ramki `weather_df`, a później do pliku `airport_weather.csv`.\n",
    "\n",
    " Wskazówki:\n",
    " - Ze względu na wolumen danych, które tutaj się pobiorą, odradzamy zapisywanie danych bezpośrednio do ramki. Rekomendujemy podejście podobne do tego z warsztatu na kursie `Python - analiza danych` - `Dzień 10 - Warsztat > Warsztat > Scrapowanie danych`, czyli stworzenie listy, a następnie przekonwertowanie jej w postać ramki.\n",
    " - Data początkowa danych to `2019-01-01`, zaś data końcowa to `2020-03-31`, czyli 15 miesięcy,\n",
    " - Ze względu na czas, jaki ten krok będzie się wykonywał, warto dodać w pętli instrukcję (lub kilka) `print`, aby monitorować przebieg wykonywania tego kroku.\n",
    " - Przy dodawaniu miesięcy do daty może przydać się metoda [relativedelta](https://www.geeksforgeeks.org/python-get-month-from-year-and-weekday/)."
   ]
  },
  {
   "cell_type": "code",
   "execution_count": 55,
   "metadata": {},
   "outputs": [
    {
     "data": {
      "text/html": [
       "<div>\n",
       "<style scoped>\n",
       "    .dataframe tbody tr th:only-of-type {\n",
       "        vertical-align: middle;\n",
       "    }\n",
       "\n",
       "    .dataframe tbody tr th {\n",
       "        vertical-align: top;\n",
       "    }\n",
       "\n",
       "    .dataframe thead th {\n",
       "        text-align: right;\n",
       "    }\n",
       "</style>\n",
       "<table border=\"1\" class=\"dataframe\">\n",
       "  <thead>\n",
       "    <tr style=\"text-align: right;\">\n",
       "      <th></th>\n",
       "      <th>WT18</th>\n",
       "      <th>STATION</th>\n",
       "      <th>NAME</th>\n",
       "      <th>DATE</th>\n",
       "      <th>AWND</th>\n",
       "      <th>PRCP</th>\n",
       "      <th>SNOW</th>\n",
       "      <th>SNWD</th>\n",
       "      <th>TAVG</th>\n",
       "      <th>TMAX</th>\n",
       "      <th>...</th>\n",
       "      <th>PGTM</th>\n",
       "      <th>WT10</th>\n",
       "      <th>WESD</th>\n",
       "      <th>SN32</th>\n",
       "      <th>SX32</th>\n",
       "      <th>PSUN</th>\n",
       "      <th>TSUN</th>\n",
       "      <th>TOBS</th>\n",
       "      <th>WT07</th>\n",
       "      <th>WT11</th>\n",
       "    </tr>\n",
       "  </thead>\n",
       "  <tbody>\n",
       "    <tr>\n",
       "      <th>0</th>\n",
       "      <td>None</td>\n",
       "      <td>USW00013874</td>\n",
       "      <td>ATLANTA HARTSFIELD JACKSON INTERNATIONAL AIRPO...</td>\n",
       "      <td>2019-01-01</td>\n",
       "      <td>4.70</td>\n",
       "      <td>0.14</td>\n",
       "      <td>0.0</td>\n",
       "      <td>0.0</td>\n",
       "      <td>64.0</td>\n",
       "      <td>66.0</td>\n",
       "      <td>...</td>\n",
       "      <td>NaN</td>\n",
       "      <td>NaN</td>\n",
       "      <td>NaN</td>\n",
       "      <td>NaN</td>\n",
       "      <td>NaN</td>\n",
       "      <td>NaN</td>\n",
       "      <td>NaN</td>\n",
       "      <td>NaN</td>\n",
       "      <td>NaN</td>\n",
       "      <td>NaN</td>\n",
       "    </tr>\n",
       "    <tr>\n",
       "      <th>1</th>\n",
       "      <td>None</td>\n",
       "      <td>USW00013874</td>\n",
       "      <td>ATLANTA HARTSFIELD JACKSON INTERNATIONAL AIRPO...</td>\n",
       "      <td>2019-01-02</td>\n",
       "      <td>4.92</td>\n",
       "      <td>0.57</td>\n",
       "      <td>0.0</td>\n",
       "      <td>0.0</td>\n",
       "      <td>56.0</td>\n",
       "      <td>59.0</td>\n",
       "      <td>...</td>\n",
       "      <td>NaN</td>\n",
       "      <td>NaN</td>\n",
       "      <td>NaN</td>\n",
       "      <td>NaN</td>\n",
       "      <td>NaN</td>\n",
       "      <td>NaN</td>\n",
       "      <td>NaN</td>\n",
       "      <td>NaN</td>\n",
       "      <td>NaN</td>\n",
       "      <td>NaN</td>\n",
       "    </tr>\n",
       "    <tr>\n",
       "      <th>2</th>\n",
       "      <td>None</td>\n",
       "      <td>USW00013874</td>\n",
       "      <td>ATLANTA HARTSFIELD JACKSON INTERNATIONAL AIRPO...</td>\n",
       "      <td>2019-01-03</td>\n",
       "      <td>5.37</td>\n",
       "      <td>0.15</td>\n",
       "      <td>0.0</td>\n",
       "      <td>0.0</td>\n",
       "      <td>52.0</td>\n",
       "      <td>55.0</td>\n",
       "      <td>...</td>\n",
       "      <td>NaN</td>\n",
       "      <td>NaN</td>\n",
       "      <td>NaN</td>\n",
       "      <td>NaN</td>\n",
       "      <td>NaN</td>\n",
       "      <td>NaN</td>\n",
       "      <td>NaN</td>\n",
       "      <td>NaN</td>\n",
       "      <td>NaN</td>\n",
       "      <td>NaN</td>\n",
       "    </tr>\n",
       "  </tbody>\n",
       "</table>\n",
       "<p>3 rows × 33 columns</p>\n",
       "</div>"
      ],
      "text/plain": [
       "   WT18      STATION                                               NAME  \\\n",
       "0  None  USW00013874  ATLANTA HARTSFIELD JACKSON INTERNATIONAL AIRPO...   \n",
       "1  None  USW00013874  ATLANTA HARTSFIELD JACKSON INTERNATIONAL AIRPO...   \n",
       "2  None  USW00013874  ATLANTA HARTSFIELD JACKSON INTERNATIONAL AIRPO...   \n",
       "\n",
       "         DATE  AWND  PRCP  SNOW  SNWD  TAVG  TMAX  ...  PGTM  WT10  WESD  \\\n",
       "0  2019-01-01  4.70  0.14   0.0   0.0  64.0  66.0  ...   NaN   NaN   NaN   \n",
       "1  2019-01-02  4.92  0.57   0.0   0.0  56.0  59.0  ...   NaN   NaN   NaN   \n",
       "2  2019-01-03  5.37  0.15   0.0   0.0  52.0  55.0  ...   NaN   NaN   NaN   \n",
       "\n",
       "   SN32  SX32  PSUN  TSUN  TOBS  WT07  WT11  \n",
       "0   NaN   NaN   NaN   NaN   NaN   NaN   NaN  \n",
       "1   NaN   NaN   NaN   NaN   NaN   NaN   NaN  \n",
       "2   NaN   NaN   NaN   NaN   NaN   NaN   NaN  \n",
       "\n",
       "[3 rows x 33 columns]"
      ]
     },
     "execution_count": 55,
     "metadata": {},
     "output_type": "execute_result"
    }
   ],
   "source": [
    "list_of_weather = []\n",
    "for year in range(2019, 2021):\n",
    "    for month in range(1, 13):\n",
    "        if month < 10:\n",
    "            month = f'0{month}'\n",
    "        try:\n",
    "            res = requests.get(f'https://api-datalab.coderslab.com/api/airportWeather',\n",
    "                               params = {'date': f'{year}-{month}'},\n",
    "                               headers = {'Authorization': f'{apikey}'})\n",
    "            if res.status_code == 200:\n",
    "                data = res.json()\n",
    "                for el in data:\n",
    "                    list_of_weather.append(el)\n",
    "        except:\n",
    "            pass\n",
    "        if(year == 2020 and int(month) == 3):\n",
    "            break\n",
    "weather_df = pd.DataFrame.from_records(list_of_weather)\n",
    "weather_df.head(3)"
   ]
  },
  {
   "cell_type": "markdown",
   "metadata": {
    "id": "ESOue3vucSrF"
   },
   "source": [
    " ## Sprawdzenie\n",
    " Uruchom kod poniżej, aby sprawdzić, czy ta część została poprawnie wykonana."
   ]
  },
  {
   "cell_type": "code",
   "execution_count": 57,
   "metadata": {
    "id": "RyAhmF0tcSrF"
   },
   "outputs": [],
   "source": [
    "airport_weather_df_expected_shape = (46226, 33)\n",
    "assert airport_weather_df_expected_shape == weather_df.shape"
   ]
  },
  {
   "cell_type": "markdown",
   "metadata": {
    "id": "s6AC9708cSrF"
   },
   "source": [
    " ## Zapis do pliku\n",
    " Tutaj zapisz ramkę `weather_df` do pliku `airport_weather.csv` w katalogu `data/raw`."
   ]
  },
  {
   "cell_type": "code",
   "execution_count": 59,
   "metadata": {
    "id": "-XdjTZeucSrG"
   },
   "outputs": [],
   "source": [
    "weather_df.to_csv(r'../data/raw/airport_weather.csv')"
   ]
  },
  {
   "cell_type": "markdown",
   "metadata": {
    "id": "TjzQYZp7cSrG"
   },
   "source": [
    " # Pobranie `Aircraft`\n",
    " Zapoznaj się z dokumentacją endpointu `aircraft` a następnie pobierz dane produkcyjne samolotów. Wyniki zapisz do ramki `aircraft_df`, a następnie zapisz do pliku `aircraft.csv`.\n"
   ]
  },
  {
   "cell_type": "code",
   "execution_count": 60,
   "metadata": {
    "id": "bxqkmGNOdjnL"
   },
   "outputs": [
    {
     "data": {
      "text/html": [
       "<div>\n",
       "<style scoped>\n",
       "    .dataframe tbody tr th:only-of-type {\n",
       "        vertical-align: middle;\n",
       "    }\n",
       "\n",
       "    .dataframe tbody tr th {\n",
       "        vertical-align: top;\n",
       "    }\n",
       "\n",
       "    .dataframe thead th {\n",
       "        text-align: right;\n",
       "    }\n",
       "</style>\n",
       "<table border=\"1\" class=\"dataframe\">\n",
       "  <thead>\n",
       "    <tr style=\"text-align: right;\">\n",
       "      <th></th>\n",
       "      <th>MANUFACTURE_YEAR</th>\n",
       "      <th>TAIL_NUM</th>\n",
       "      <th>NUMBER_OF_SEATS</th>\n",
       "    </tr>\n",
       "  </thead>\n",
       "  <tbody>\n",
       "    <tr>\n",
       "      <th>0</th>\n",
       "      <td>1944</td>\n",
       "      <td>N54514</td>\n",
       "      <td>0.0</td>\n",
       "    </tr>\n",
       "    <tr>\n",
       "      <th>1</th>\n",
       "      <td>1945</td>\n",
       "      <td>N1651M</td>\n",
       "      <td>0.0</td>\n",
       "    </tr>\n",
       "    <tr>\n",
       "      <th>2</th>\n",
       "      <td>1953</td>\n",
       "      <td>N100CE</td>\n",
       "      <td>0.0</td>\n",
       "    </tr>\n",
       "  </tbody>\n",
       "</table>\n",
       "</div>"
      ],
      "text/plain": [
       "   MANUFACTURE_YEAR TAIL_NUM  NUMBER_OF_SEATS\n",
       "0              1944   N54514              0.0\n",
       "1              1945   N1651M              0.0\n",
       "2              1953   N100CE              0.0"
      ]
     },
     "execution_count": 60,
     "metadata": {},
     "output_type": "execute_result"
    }
   ],
   "source": [
    "list_of_aircrafts = []\n",
    "try:\n",
    "    res = requests.get(f'https://api-datalab.coderslab.com/api/aircraft',\n",
    "                       headers = {'Authorization': f'{apikey}'})\n",
    "    if res.status_code == 200:\n",
    "        data = res.json()\n",
    "        for el in data:\n",
    "            list_of_aircrafts.append(el)\n",
    "except:\n",
    "    pass\n",
    "aircraft_df = pd.DataFrame.from_records(list_of_aircrafts)\n",
    "aircraft_df.head(3)"
   ]
  },
  {
   "cell_type": "markdown",
   "metadata": {
    "id": "d8i46jiccSrG"
   },
   "source": [
    " ## Sprawdzenie\n",
    " Uruchom kod poniżej, aby sprawdzić, czy ta część została poprawnie wykonana."
   ]
  },
  {
   "cell_type": "code",
   "execution_count": 61,
   "metadata": {
    "id": "pHH5brQscSrG"
   },
   "outputs": [],
   "source": [
    "aircraft_df_expected_shape = (7383, 3)\n",
    "assert aircraft_df_expected_shape == aircraft_df.shape"
   ]
  },
  {
   "cell_type": "markdown",
   "metadata": {
    "id": "mWgrH0AWcSrG"
   },
   "source": [
    " ## Zapis do pliku\n",
    " Tutaj zapisz ramkę `aircraft_df` do pliku `aircraft.csv` w katalogu `data/raw`."
   ]
  },
  {
   "cell_type": "markdown",
   "metadata": {},
   "source": []
  },
  {
   "cell_type": "code",
   "execution_count": 63,
   "metadata": {
    "id": "mKmE38mycSrH"
   },
   "outputs": [],
   "source": [
    "aircraft_df.to_csv(r'../data/raw/aircraft.csv')"
   ]
  },
  {
   "cell_type": "markdown",
   "metadata": {
    "id": "MXI-QwVbcSrH"
   },
   "source": [
    " # Pobranie `Flight`\n",
    " Zapoznaj się z dokumentacją endpointu `flights`, następnie pobierz dane dotyczące ruchu lotniczego. Wyniki zapisz do ramki `flight_df`, a później do pliku `flight.csv`.\n",
    "\n",
    " Wskazówki:\n",
    " - Zwróć szczególną uwagę na konstrukcję endpointa,\n",
    " - Ze względu na wolumen danych, które tutaj się pobiorą, odradzamy zapisywanie danych bezpośrednio do ramki. Rekomendujemy podejście podobne do tego, z warsztatu na kursie `Python - analiza danych` - `Dzień 10 - Warsztat > Warsztat > Scrapowanie danych`,\n",
    " - Data początkowa danych to `2019-01-01`, zaś końcowa to `2020-03-31`, czyli 456 dni,\n",
    " - Ze względu na czas, jaki ten krok będzie się wykonywał, warto dodać w pętli instrukcję (lub kilka) `print`, aby monitorować przebieg wykonywania tego kroku."
   ]
  },
  {
   "cell_type": "code",
   "execution_count": 4,
   "metadata": {},
   "outputs": [
    {
     "data": {
      "text/html": [
       "<div>\n",
       "<style scoped>\n",
       "    .dataframe tbody tr th:only-of-type {\n",
       "        vertical-align: middle;\n",
       "    }\n",
       "\n",
       "    .dataframe tbody tr th {\n",
       "        vertical-align: top;\n",
       "    }\n",
       "\n",
       "    .dataframe thead th {\n",
       "        text-align: right;\n",
       "    }\n",
       "</style>\n",
       "<table border=\"1\" class=\"dataframe\">\n",
       "  <thead>\n",
       "    <tr style=\"text-align: right;\">\n",
       "      <th></th>\n",
       "      <th>MONTH</th>\n",
       "      <th>DAY_OF_MONTH</th>\n",
       "      <th>DAY_OF_WEEK</th>\n",
       "      <th>OP_UNIQUE_CARRIER</th>\n",
       "      <th>TAIL_NUM</th>\n",
       "      <th>OP_CARRIER_FL_NUM</th>\n",
       "      <th>ORIGIN_AIRPORT_ID</th>\n",
       "      <th>DEST_AIRPORT_ID</th>\n",
       "      <th>CRS_DEP_TIME</th>\n",
       "      <th>DEP_TIME</th>\n",
       "      <th>...</th>\n",
       "      <th>CRS_ELAPSED_TIME</th>\n",
       "      <th>ACTUAL_ELAPSED_TIME</th>\n",
       "      <th>DISTANCE</th>\n",
       "      <th>DISTANCE_GROUP</th>\n",
       "      <th>YEAR</th>\n",
       "      <th>CARRIER_DELAY</th>\n",
       "      <th>WEATHER_DELAY</th>\n",
       "      <th>NAS_DELAY</th>\n",
       "      <th>SECURITY_DELAY</th>\n",
       "      <th>LATE_AIRCRAFT_DELAY</th>\n",
       "    </tr>\n",
       "  </thead>\n",
       "  <tbody>\n",
       "    <tr>\n",
       "      <th>0</th>\n",
       "      <td>1</td>\n",
       "      <td>1</td>\n",
       "      <td>2</td>\n",
       "      <td>9E</td>\n",
       "      <td>N931XJ</td>\n",
       "      <td>3290</td>\n",
       "      <td>10874</td>\n",
       "      <td>10397</td>\n",
       "      <td>600</td>\n",
       "      <td>557.0</td>\n",
       "      <td>...</td>\n",
       "      <td>129.0</td>\n",
       "      <td>100.0</td>\n",
       "      <td>528</td>\n",
       "      <td>3</td>\n",
       "      <td>2019</td>\n",
       "      <td>NaN</td>\n",
       "      <td>NaN</td>\n",
       "      <td>NaN</td>\n",
       "      <td>NaN</td>\n",
       "      <td>NaN</td>\n",
       "    </tr>\n",
       "    <tr>\n",
       "      <th>1</th>\n",
       "      <td>1</td>\n",
       "      <td>1</td>\n",
       "      <td>2</td>\n",
       "      <td>OH</td>\n",
       "      <td>N723PS</td>\n",
       "      <td>5495</td>\n",
       "      <td>10874</td>\n",
       "      <td>11057</td>\n",
       "      <td>704</td>\n",
       "      <td>723.0</td>\n",
       "      <td>...</td>\n",
       "      <td>115.0</td>\n",
       "      <td>82.0</td>\n",
       "      <td>394</td>\n",
       "      <td>2</td>\n",
       "      <td>2019</td>\n",
       "      <td>NaN</td>\n",
       "      <td>NaN</td>\n",
       "      <td>NaN</td>\n",
       "      <td>NaN</td>\n",
       "      <td>NaN</td>\n",
       "    </tr>\n",
       "    <tr>\n",
       "      <th>2</th>\n",
       "      <td>1</td>\n",
       "      <td>1</td>\n",
       "      <td>2</td>\n",
       "      <td>OH</td>\n",
       "      <td>N525EA</td>\n",
       "      <td>5416</td>\n",
       "      <td>10874</td>\n",
       "      <td>11057</td>\n",
       "      <td>1944</td>\n",
       "      <td>1942.0</td>\n",
       "      <td>...</td>\n",
       "      <td>101.0</td>\n",
       "      <td>96.0</td>\n",
       "      <td>394</td>\n",
       "      <td>2</td>\n",
       "      <td>2019</td>\n",
       "      <td>NaN</td>\n",
       "      <td>NaN</td>\n",
       "      <td>NaN</td>\n",
       "      <td>NaN</td>\n",
       "      <td>NaN</td>\n",
       "    </tr>\n",
       "  </tbody>\n",
       "</table>\n",
       "<p>3 rows × 27 columns</p>\n",
       "</div>"
      ],
      "text/plain": [
       "   MONTH  DAY_OF_MONTH  DAY_OF_WEEK OP_UNIQUE_CARRIER TAIL_NUM  \\\n",
       "0      1             1            2                9E   N931XJ   \n",
       "1      1             1            2                OH   N723PS   \n",
       "2      1             1            2                OH   N525EA   \n",
       "\n",
       "   OP_CARRIER_FL_NUM  ORIGIN_AIRPORT_ID  DEST_AIRPORT_ID  CRS_DEP_TIME  \\\n",
       "0               3290              10874            10397           600   \n",
       "1               5495              10874            11057           704   \n",
       "2               5416              10874            11057          1944   \n",
       "\n",
       "   DEP_TIME  ...  CRS_ELAPSED_TIME ACTUAL_ELAPSED_TIME  DISTANCE  \\\n",
       "0     557.0  ...             129.0               100.0       528   \n",
       "1     723.0  ...             115.0                82.0       394   \n",
       "2    1942.0  ...             101.0                96.0       394   \n",
       "\n",
       "   DISTANCE_GROUP  YEAR CARRIER_DELAY  WEATHER_DELAY  NAS_DELAY  \\\n",
       "0               3  2019           NaN            NaN        NaN   \n",
       "1               2  2019           NaN            NaN        NaN   \n",
       "2               2  2019           NaN            NaN        NaN   \n",
       "\n",
       "   SECURITY_DELAY  LATE_AIRCRAFT_DELAY  \n",
       "0             NaN                  NaN  \n",
       "1             NaN                  NaN  \n",
       "2             NaN                  NaN  \n",
       "\n",
       "[3 rows x 27 columns]"
      ]
     },
     "execution_count": 4,
     "metadata": {},
     "output_type": "execute_result"
    }
   ],
   "source": [
    "list_of_flights = []\n",
    "for airport_id in list_of_airports_id:\n",
    "    for year in range(2019, 2021):\n",
    "        for month in range(1, 13):\n",
    "            if month < 10:\n",
    "                month = f'0{month}'\n",
    "            try:\n",
    "                res = requests.get(f'https://api-datalab.coderslab.com/api/flight',\n",
    "                                   params = {'date': f'{year}-{month}', 'airportId': f'{airport_id}'},\n",
    "                                   headers = {'Authorization': f'{apikey}'})\n",
    "                if res.status_code == 200:\n",
    "                    data = res.json()\n",
    "                    for el in data:\n",
    "                        list_of_flights.append(el)\n",
    "            except:\n",
    "                pass\n",
    "            if(year == 2020 and int(month) == 3):\n",
    "                break\n",
    "flight_df = pd.DataFrame.from_records(list_of_flights)\n",
    "flight_df.head(3)"
   ]
  },
  {
   "cell_type": "markdown",
   "metadata": {
    "id": "9UJgH0CGcSrH"
   },
   "source": [
    " ## Sprawdzenie\n",
    " Uruchom kod poniżej, aby sprawdzić, czy ta część została poprawnie wykonana."
   ]
  },
  {
   "cell_type": "code",
   "execution_count": 5,
   "metadata": {
    "id": "Igrh65KgcSrH"
   },
   "outputs": [],
   "source": [
    "flight_df_expected_shape = (9251880, 27)\n",
    "assert flight_df_expected_shape == flight_df.shape"
   ]
  },
  {
   "cell_type": "markdown",
   "metadata": {
    "id": "3nfBsnwNcSrI"
   },
   "source": [
    " ## Zapis do pliku\n",
    " Tutaj zapisz ramkę `flight_df` do pliku `flight.csv` w katalogu `data/raw`."
   ]
  },
  {
   "cell_type": "code",
   "execution_count": 7,
   "metadata": {},
   "outputs": [],
   "source": [
    "flight_df.to_csv(r'../data/raw/flight.csv')"
   ]
  },
  {
   "cell_type": "markdown",
   "metadata": {
    "id": "AbxEeR32cSrI"
   },
   "source": [
    " # Podsumowanie\n",
    " W tym notatniku wykonaliśmy podstawowy krok w analizie danych - pozyskaliśmy je. Są gotowe do dalszej pracy, czyli możemy załadować je na bazę danych, a następnie zapoznać się z tym, jakie informacje ze sobą niosą. Kolejne notatniki będą służyły właśnie tym celom."
   ]
  },
  {
   "cell_type": "code",
   "execution_count": 8,
   "metadata": {
    "id": "XFsso0kKcSrI"
   },
   "outputs": [
    {
     "name": "stdout",
     "output_type": "stream",
     "text": [
      "Wszystko wygląda OK :) Możesz przejść do kolejnego kroku.\n"
     ]
    }
   ],
   "source": [
    "msg = \"Wszystko wygląda OK :) Możesz przejść do kolejnego kroku.\"\n",
    "print(msg)"
   ]
  }
 ],
 "metadata": {
  "colab": {
   "provenance": []
  },
  "kernelspec": {
   "display_name": "Python 3 (ipykernel)",
   "language": "python",
   "name": "python3"
  },
  "language_info": {
   "codemirror_mode": {
    "name": "ipython",
    "version": 3
   },
   "file_extension": ".py",
   "mimetype": "text/x-python",
   "name": "python",
   "nbconvert_exporter": "python",
   "pygments_lexer": "ipython3",
   "version": "3.9.12"
  },
  "vscode": {
   "interpreter": {
    "hash": "97b21747a2d6163ce9759ba63e94e55ef90a08103eb2c9ebee1827489f5a0c25"
   }
  }
 },
 "nbformat": 4,
 "nbformat_minor": 1
}

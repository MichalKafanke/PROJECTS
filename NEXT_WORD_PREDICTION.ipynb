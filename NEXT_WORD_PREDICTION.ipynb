{
 "cells": [
  {
   "cell_type": "code",
   "execution_count": 1,
   "id": "b9c4d929",
   "metadata": {},
   "outputs": [],
   "source": [
    "import re\n",
    "from sklearn.model_selection import train_test_split\n",
    "import torch\n",
    "from torch.utils.data import TensorDataset\n",
    "from torch.utils.data import DataLoader\n",
    "import torch.nn as nn\n",
    "from torch.nn import CrossEntropyLoss\n",
    "import matplotlib.pyplot as plt"
   ]
  },
  {
   "cell_type": "code",
   "execution_count": 2,
   "id": "6ff44275",
   "metadata": {},
   "outputs": [],
   "source": [
    "path = 'next_word_prediction_dataset.csv'\n",
    "sequence_length = 10\n",
    "train_size = 0.9\n",
    "batch_size = 32\n",
    "embedding_dim = 32\n",
    "hidden_dim = 512\n",
    "num_layers = 2\n",
    "learning_rate = 0.0001\n",
    "num_epochs = 33"
   ]
  },
  {
   "cell_type": "code",
   "execution_count": 23,
   "id": "877ba864",
   "metadata": {},
   "outputs": [],
   "source": [
    "def load_and_preprocess_text(path, sequence_length):\n",
    "    with open(path, mode = 'r', encoding = 'UTF-8') as f:\n",
    "        text = f.read()\n",
    "    text = text.lower()\n",
    "    text = re.sub(r'[^a-z]', ' ', text)\n",
    "    words = text.split()\n",
    "    unique_tokens = sorted(set(words))\n",
    "    word_to_idx = {word: i for i, word in enumerate(unique_tokens)}\n",
    "    word_indices = [word_to_idx[word] for word in words]\n",
    "    sequences = []\n",
    "    for i in range(len(word_indices) - sequence_length):\n",
    "        seq = word_indices[i:i + sequence_length]\n",
    "        target = word_indices[i + sequence_length]\n",
    "        sequences.append((seq, target))\n",
    "    vocab_size = len(word_to_idx)\n",
    "    return sequences, vocab_size, word_to_idx"
   ]
  },
  {
   "cell_type": "code",
   "execution_count": 24,
   "id": "82086d3a",
   "metadata": {},
   "outputs": [],
   "source": [
    "sequences, vocab_size, word_to_idx = load_and_preprocess_text(path, sequence_length)"
   ]
  },
  {
   "cell_type": "code",
   "execution_count": 5,
   "id": "0bb0bfa1",
   "metadata": {},
   "outputs": [],
   "source": [
    "def create_dataset(sequences, train_size, batch_size):\n",
    "    seq_train, seq_test = train_test_split(sequences, train_size = train_size, random_state = 42)\n",
    "    X_train = [seq for seq, _ in seq_train]\n",
    "    y_train = [target for _, target in seq_train]\n",
    "    X_test = [seq for seq, _ in seq_test]\n",
    "    y_test = [target for _, target in seq_test]\n",
    "    X_train_tensor = torch.tensor(X_train, dtype = torch.long)\n",
    "    y_train_tensor = torch.tensor(y_train, dtype = torch.long)\n",
    "    X_test_tensor = torch.tensor(X_test, dtype = torch.long)\n",
    "    y_test_tensor = torch.tensor(y_test, dtype = torch.long)\n",
    "    train_dataset = TensorDataset(X_train_tensor, y_train_tensor)\n",
    "    test_dataset = TensorDataset(X_test_tensor, y_test_tensor)\n",
    "    train_loader = DataLoader(train_dataset, batch_size = batch_size, shuffle = True)\n",
    "    test_loader = DataLoader(test_dataset, batch_size = batch_size, shuffle = True)\n",
    "    return train_loader, test_loader"
   ]
  },
  {
   "cell_type": "code",
   "execution_count": 6,
   "id": "8e28a9d1",
   "metadata": {},
   "outputs": [],
   "source": [
    "train_loader, test_loader = create_dataset(sequences, train_size, batch_size)"
   ]
  },
  {
   "cell_type": "code",
   "execution_count": 7,
   "id": "ca72cccc",
   "metadata": {},
   "outputs": [],
   "source": [
    "class Model(nn.Module):\n",
    "    def __init__(self, vocab_size, embedding_dim, hidden_dim, num_layers, output_dim):\n",
    "        super(Model, self).__init__()\n",
    "        self.num_layers = num_layers\n",
    "        self.embedding = nn.Embedding(vocab_size, embedding_dim)\n",
    "        self.lstm = nn.LSTM(embedding_dim, hidden_dim, num_layers = num_layers, batch_first = True)\n",
    "        self.linear = nn.Linear(hidden_dim, output_dim)\n",
    "    def forward(self, x):\n",
    "        embedded = self.embedding(x)\n",
    "        h_0 = torch.zeros(self.num_layers, x.size(0), self.lstm.hidden_size).to(x.device)\n",
    "        c_0 = torch.zeros(self.num_layers, x.size(0), self.lstm.hidden_size).to(x.device)\n",
    "        out, _ = self.lstm(embedded, (h_0, c_0))\n",
    "        out = out[:, -1, :]\n",
    "        out = self.linear(out)\n",
    "        return out"
   ]
  },
  {
   "cell_type": "code",
   "execution_count": 8,
   "id": "1031644c",
   "metadata": {},
   "outputs": [],
   "source": [
    "model = Model(vocab_size, embedding_dim, hidden_dim, num_layers, vocab_size)"
   ]
  },
  {
   "cell_type": "code",
   "execution_count": 9,
   "id": "f8f64222",
   "metadata": {},
   "outputs": [],
   "source": [
    "def train_model(model, learning_rate, num_epochs, train_loader):\n",
    "    criterion = CrossEntropyLoss()\n",
    "    optimizer = torch.optim.Adam(model.parameters(), lr = learning_rate)\n",
    "    train_losses = []\n",
    "    train_accuracies = []\n",
    "    for epoch in range(num_epochs):\n",
    "        model.train()\n",
    "        total_loss = 0.0\n",
    "        correct_predictions = 0\n",
    "        total_samples = 0\n",
    "        for x, y in train_loader:\n",
    "            optimizer.zero_grad()\n",
    "            pred = model(x)\n",
    "            loss = criterion(pred, y)\n",
    "            total_loss += loss.item()\n",
    "            _, predicted_labels = torch.max(pred, 1)\n",
    "            correct_predictions += (predicted_labels == y).sum().item()\n",
    "            total_samples += y.size(0)\n",
    "            loss.backward()\n",
    "            optimizer.step()\n",
    "        train_accuracy = correct_predictions / total_samples\n",
    "        avg_train_loss = total_loss / len(train_loader)\n",
    "        print(f'Epoch [{epoch + 1}/{num_epochs}], '\n",
    "              f'Train Loss: {round(avg_train_loss, 2)}, Train Accuracy: {round(train_accuracy * 100, 2)}%')\n",
    "        train_losses.append(avg_train_loss)\n",
    "        train_accuracies.append(train_accuracy)\n",
    "    plt.figure(figsize = (16, 9))\n",
    "    plt.subplot(1, 2, 1)\n",
    "    plt.plot(train_losses, label = 'Train Loss')\n",
    "    plt.title('Training Loss')\n",
    "    plt.xlabel('Epoch')\n",
    "    plt.ylabel('Loss')\n",
    "    plt.legend()\n",
    "    plt.grid(axis = 'y')\n",
    "    plt.subplot(1, 2, 2)\n",
    "    plt.plot(train_accuracies, label = 'Train Accuracy')\n",
    "    plt.title('Training Accuracy')\n",
    "    plt.xlabel('Epoch')\n",
    "    plt.ylabel('Accuracy')\n",
    "    plt.legend()\n",
    "    plt.grid(axis = 'y')\n",
    "    plt.show()"
   ]
  },
  {
   "cell_type": "code",
   "execution_count": 10,
   "id": "ee33a0ba",
   "metadata": {},
   "outputs": [
    {
     "name": "stdout",
     "output_type": "stream",
     "text": [
      "Epoch [1/33], Train Loss: 5.23, Train Accuracy: 13.28%\n",
      "Epoch [2/33], Train Loss: 4.26, Train Accuracy: 27.11%\n",
      "Epoch [3/33], Train Loss: 3.71, Train Accuracy: 33.52%\n",
      "Epoch [4/33], Train Loss: 3.33, Train Accuracy: 37.13%\n",
      "Epoch [5/33], Train Loss: 3.02, Train Accuracy: 41.44%\n",
      "Epoch [6/33], Train Loss: 2.75, Train Accuracy: 45.38%\n",
      "Epoch [7/33], Train Loss: 2.51, Train Accuracy: 49.24%\n",
      "Epoch [8/33], Train Loss: 2.3, Train Accuracy: 53.11%\n",
      "Epoch [9/33], Train Loss: 2.11, Train Accuracy: 56.44%\n",
      "Epoch [10/33], Train Loss: 1.93, Train Accuracy: 59.61%\n",
      "Epoch [11/33], Train Loss: 1.76, Train Accuracy: 62.64%\n",
      "Epoch [12/33], Train Loss: 1.61, Train Accuracy: 65.39%\n",
      "Epoch [13/33], Train Loss: 1.46, Train Accuracy: 68.29%\n",
      "Epoch [14/33], Train Loss: 1.33, Train Accuracy: 71.07%\n",
      "Epoch [15/33], Train Loss: 1.2, Train Accuracy: 73.85%\n",
      "Epoch [16/33], Train Loss: 1.08, Train Accuracy: 76.54%\n",
      "Epoch [17/33], Train Loss: 0.97, Train Accuracy: 79.33%\n",
      "Epoch [18/33], Train Loss: 0.87, Train Accuracy: 81.81%\n",
      "Epoch [19/33], Train Loss: 0.77, Train Accuracy: 84.14%\n",
      "Epoch [20/33], Train Loss: 0.68, Train Accuracy: 86.24%\n",
      "Epoch [21/33], Train Loss: 0.6, Train Accuracy: 88.39%\n",
      "Epoch [22/33], Train Loss: 0.53, Train Accuracy: 90.1%\n",
      "Epoch [23/33], Train Loss: 0.46, Train Accuracy: 91.57%\n",
      "Epoch [24/33], Train Loss: 0.4, Train Accuracy: 92.91%\n",
      "Epoch [25/33], Train Loss: 0.35, Train Accuracy: 94.03%\n",
      "Epoch [26/33], Train Loss: 0.3, Train Accuracy: 95.08%\n",
      "Epoch [27/33], Train Loss: 0.26, Train Accuracy: 95.8%\n",
      "Epoch [28/33], Train Loss: 0.23, Train Accuracy: 96.36%\n",
      "Epoch [29/33], Train Loss: 0.2, Train Accuracy: 96.76%\n",
      "Epoch [30/33], Train Loss: 0.17, Train Accuracy: 97.1%\n",
      "Epoch [31/33], Train Loss: 0.15, Train Accuracy: 97.32%\n",
      "Epoch [32/33], Train Loss: 0.14, Train Accuracy: 97.47%\n",
      "Epoch [33/33], Train Loss: 0.12, Train Accuracy: 97.53%\n"
     ]
    },
    {
     "data": {
      "image/png": "[encoded data removed]",
      "text/plain": [
       "<Figure size 1152x648 with 2 Axes>"
      ]
     },
     "metadata": {
      "needs_background": "light"
     },
     "output_type": "display_data"
    }
   ],
   "source": [
    "train_model(model, learning_rate, num_epochs, train_loader)"
   ]
  },
  {
   "cell_type": "code",
   "execution_count": 57,
   "id": "a2909c3b",
   "metadata": {},
   "outputs": [],
   "source": [
    "def predict_and_print(model, test_loader, word_to_idx):\n",
    "    model.eval()\n",
    "    for input_seq, targets in test_loader:\n",
    "        for i in range(len(input_seq)):\n",
    "            input_sentence = [word for idx in input_seq[i] for word, word_idx in word_to_idx.items() if idx == word_idx]\n",
    "            target_word = [word for word, word_idx in word_to_idx.items() if targets[i].item() == word_idx][0]\n",
    "            input_seq_tensor = torch.tensor(input_seq[i]).unsqueeze(0)\n",
    "            with torch.no_grad():\n",
    "                output_probs = torch.softmax(model(input_seq_tensor), dim = 1)\n",
    "            _, predicted_index = torch.max(output_probs, 1)\n",
    "            predicted_word = [word for word, idx in word_to_idx.items() if idx == predicted_index.item()][0]\n",
    "            print(f\"Sentence: {' '.join(input_sentence)}\")\n",
    "            print(f'Target: {target_word}')\n",
    "            print(f'Prediction: {predicted_word}')\n",
    "            print()\n",
    "            if i == 9:\n",
    "                break\n",
    "        break"
   ]
  },
  {
   "cell_type": "code",
   "execution_count": 58,
   "id": "363a2541",
   "metadata": {},
   "outputs": [
    {
     "name": "stderr",
     "output_type": "stream",
     "text": [
      "C:\\Users\\xMich\\AppData\\Local\\Temp\\ipykernel_19636\\1033572604.py:7: UserWarning: To copy construct from a tensor, it is recommended to use sourceTensor.clone().detach() or sourceTensor.clone().detach().requires_grad_(True), rather than torch.tensor(sourceTensor).\n",
      "  input_seq_tensor = torch.tensor(input_seq[i]).unsqueeze(0)\n"
     ]
    },
    {
     "name": "stdout",
     "output_type": "stream",
     "text": [
      "Sentence: the depths of the darkest days embrace compassion for it\n",
      "Target: is\n",
      "Prediction: is\n",
      "\n",
      "Sentence: turbulent seas of life let your empathy be the bridge\n",
      "Target: that\n",
      "Prediction: that\n",
      "\n",
      "Sentence: of light in the world radiate joy and let it\n",
      "Target: be\n",
      "Prediction: be\n",
      "\n",
      "Sentence: sunlight of positivity and watered by the rain of shared\n",
      "Target: joys\n",
      "Prediction: joys\n",
      "\n",
      "Sentence: your acceptance will be the doorway to embracing what is\n",
      "Target: believe\n",
      "Prediction: believe\n",
      "\n",
      "Sentence: our planet holds our planet s seashores are the thresholds\n",
      "Target: of\n",
      "Prediction: of\n",
      "\n",
      "Sentence: it be the sanctuary within your heart radiate resilience and\n",
      "Target: let\n",
      "Prediction: let\n",
      "\n",
      "Sentence: paints the horizon with hues of hope promising a day\n",
      "Target: filled\n",
      "Prediction: in\n",
      "\n",
      "Sentence: and savor every moment as a precious gift of life\n",
      "Target: have\n",
      "Prediction: have\n",
      "\n",
      "Sentence: the truest expression of your authentic self radiate confidence and\n",
      "Target: let\n",
      "Prediction: let\n",
      "\n"
     ]
    }
   ],
   "source": [
    "predict_and_print(model, test_loader, word_to_idx)"
   ]
  }
 ],
 "metadata": {
  "kernelspec": {
   "display_name": "Python 3 (ipykernel)",
   "language": "python",
   "name": "python3"
  },
  "language_info": {
   "codemirror_mode": {
    "name": "ipython",
    "version": 3
   },
   "file_extension": ".py",
   "mimetype": "text/x-python",
   "name": "python",
   "nbconvert_exporter": "python",
   "pygments_lexer": "ipython3",
   "version": "3.9.12"
  }
 },
 "nbformat": 4,
 "nbformat_minor": 5
}
